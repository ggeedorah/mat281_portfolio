{
 "cells": [
  {
   "cell_type": "markdown",
   "metadata": {},
   "source": [
    "# Laboratorio 01 - MAT281 \n",
    "Nombre: Gonzalo Gallardo Urrutia\n",
    "## 1. Problema 01"
   ]
  },
  {
   "cell_type": "code",
   "execution_count": 25,
   "metadata": {},
   "outputs": [],
   "source": [
    "## Función auxiliar para determinar el factorial de un entero n ##\n",
    "def factorial(n:int)->int:\n",
    "    fact=1 # Iniciamos la variable con el neutro multiplicativo ##\n",
    "    for i in range(1,n+1):\n",
    "        fact*=i\n",
    "    return fact"
   ]
  },
  {
   "cell_type": "code",
   "execution_count": 26,
   "metadata": {},
   "outputs": [],
   "source": [
    "## Función para calcular euler segun la serie dada hasta el término n ##\n",
    "def calcular_euler(n:int)->float:\n",
    "    euler=0 ## Incializamos la suma parcial con el neutro aditivo ## \n",
    "    for i in range (0,n+1): ## Recorremos desde 0 hasta n (incluyéndolo) y sumamos los términos ## \n",
    "        euler+=1/factorial(i) \n",
    "    return euler ## Retornamos la suma ##"
   ]
  },
  {
   "cell_type": "code",
   "execution_count": 27,
   "metadata": {},
   "outputs": [
    {
     "data": {
      "text/plain": [
       "2.7182818011463845"
      ]
     },
     "execution_count": 27,
     "metadata": {},
     "output_type": "execute_result"
    }
   ],
   "source": [
    "## Ejemplo 1 ##\n",
    "calcular_euler(10)"
   ]
  },
  {
   "cell_type": "code",
   "execution_count": 28,
   "metadata": {},
   "outputs": [
    {
     "data": {
      "text/plain": [
       "2.7182818284590455"
      ]
     },
     "execution_count": 28,
     "metadata": {},
     "output_type": "execute_result"
    }
   ],
   "source": [
    "## Ejemplo 2 ##\n",
    "calcular_euler(100)"
   ]
  },
  {
   "cell_type": "code",
   "execution_count": 29,
   "metadata": {},
   "outputs": [
    {
     "data": {
      "text/plain": [
       "2.7182818284590455"
      ]
     },
     "execution_count": 29,
     "metadata": {},
     "output_type": "execute_result"
    }
   ],
   "source": [
    "## Ejemplo 3 ##\n",
    "calcular_euler(1000)"
   ]
  },
  {
   "cell_type": "markdown",
   "metadata": {},
   "source": [
    "## 2. Problema 02"
   ]
  },
  {
   "cell_type": "code",
   "execution_count": 30,
   "metadata": {},
   "outputs": [],
   "source": [
    "## Función auxiliar para determinar la suma de los divisores propios de un entero n ##\n",
    "def suma_divisores(n:int)->int:\n",
    "    suma=1 ## 1 divide a todo número entero ##\n",
    "    for i in range(2,n): ## Recorremos tal que 1<i<n  ##\n",
    "        if n%i==0: ## Si el resto de la división es nulo, entonces i|n ##\n",
    "            suma+=i\n",
    "            i+=1 \n",
    "    return suma ## Retornamos la suma de los divisores propios ##"
   ]
  },
  {
   "cell_type": "code",
   "execution_count": 31,
   "metadata": {},
   "outputs": [],
   "source": [
    "## Función para determinar si dos números son amigos ##\n",
    "def amigos(a:int, b:int)->bool:\n",
    "    if suma_divisores(a)==b and a==suma_divisores(b): ## Comprobamos que σ(a)=b y σ(b)=a ##\n",
    "        return True\n",
    "    return False"
   ]
  },
  {
   "cell_type": "code",
   "execution_count": 32,
   "metadata": {},
   "outputs": [
    {
     "data": {
      "text/plain": [
       "True"
      ]
     },
     "execution_count": 32,
     "metadata": {},
     "output_type": "execute_result"
    }
   ],
   "source": [
    "## Ejemplo 1 ##\n",
    "amigos(220, 284)"
   ]
  },
  {
   "cell_type": "code",
   "execution_count": 33,
   "metadata": {},
   "outputs": [
    {
     "data": {
      "text/plain": [
       "False"
      ]
     },
     "execution_count": 33,
     "metadata": {},
     "output_type": "execute_result"
    }
   ],
   "source": [
    "## Ejemplo 2 ##\n",
    "amigos(13, 12)"
   ]
  },
  {
   "cell_type": "code",
   "execution_count": 34,
   "metadata": {},
   "outputs": [
    {
     "data": {
      "text/plain": [
       "True"
      ]
     },
     "execution_count": 34,
     "metadata": {},
     "output_type": "execute_result"
    }
   ],
   "source": [
    "## Ejemplo 3 ##\n",
    "amigos(9363584, 9437056)"
   ]
  },
  {
   "cell_type": "markdown",
   "metadata": {},
   "source": [
    "## 3. Problema 03"
   ]
  },
  {
   "cell_type": "code",
   "execution_count": 35,
   "metadata": {},
   "outputs": [],
   "source": [
    "## Función para probar si un entero positivo n cumple con la conjetura de collatz ##\n",
    "def collatz(n:int)->int:\n",
    "    lista=[]\n",
    "    if n<=0:\n",
    "        print(\"Error: Ingrese un entero positivo\")\n",
    "        return ## La conjetura sólo considera enteros positivos ##\n",
    "    while n!=1: ## Entran en el ciclo los enteros mayores a 1, y se ve a que caso pertenecen ##\n",
    "        if n%2==0: \n",
    "            lista.append(n)\n",
    "            n//=2 ## Agregamos n y si este es par lo dividimos por 2 ##\n",
    "        else:\n",
    "            lista.append(n)\n",
    "            n=3*n+1 ## Agregamos n y si este es impar lo multiplicamos por 3 y sumamos 1 ##\n",
    "    lista.append(1) ## Al salir del ciclo significa que n=1, lo agregamos a la lista ##\n",
    "    return lista ## Retornamos la lista ##"
   ]
  },
  {
   "cell_type": "code",
   "execution_count": 36,
   "metadata": {},
   "outputs": [
    {
     "data": {
      "text/plain": [
       "[9, 28, 14, 7, 22, 11, 34, 17, 52, 26, 13, 40, 20, 10, 5, 16, 8, 4, 2, 1]"
      ]
     },
     "execution_count": 36,
     "metadata": {},
     "output_type": "execute_result"
    }
   ],
   "source": [
    "## Ejemplo 1 ##\n",
    "collatz(9)"
   ]
  },
  {
   "cell_type": "code",
   "execution_count": 37,
   "metadata": {},
   "outputs": [
    {
     "data": {
      "text/plain": [
       "[11, 34, 17, 52, 26, 13, 40, 20, 10, 5, 16, 8, 4, 2, 1]"
      ]
     },
     "execution_count": 37,
     "metadata": {},
     "output_type": "execute_result"
    }
   ],
   "source": [
    "## Ejemplo 2 ##\n",
    "collatz(11)"
   ]
  },
  {
   "cell_type": "code",
   "execution_count": 38,
   "metadata": {},
   "outputs": [
    {
     "data": {
      "text/plain": [
       "[17, 52, 26, 13, 40, 20, 10, 5, 16, 8, 4, 2, 1]"
      ]
     },
     "execution_count": 38,
     "metadata": {},
     "output_type": "execute_result"
    }
   ],
   "source": [
    "## Ejemplo 3 ##\n",
    "collatz(17)"
   ]
  },
  {
   "cell_type": "markdown",
   "metadata": {},
   "source": [
    "## 4. Problema 04"
   ]
  },
  {
   "cell_type": "code",
   "execution_count": 39,
   "metadata": {},
   "outputs": [],
   "source": [
    "## Función auxiliar para determinar si un natural n es primo ##\n",
    "def primo(n:int):\n",
    "    if n<=1:\n",
    "        return False ## Los primos son naturales mayores a 1 ##\n",
    "    if n==2:\n",
    "        return True ## Sabemos que 2 es primo ##\n",
    "    if n%2==0:\n",
    "        return False ## Por lo tanto, ningún otro par es primo ##\n",
    "    k=3\n",
    "    while k**2<=n: ## No es necesario buscar después de sqrt(n) ##\n",
    "        if n%k==0:\n",
    "            return False ## Si n es divisible por k, entonces no es primo ##\n",
    "        k+=2 ## Probamos solo los impares ##\n",
    "    return True ## Si no se encontró ningún factor menor que raíz de n, entonces n es primo ##"
   ]
  },
  {
   "cell_type": "code",
   "execution_count": 40,
   "metadata": {},
   "outputs": [],
   "source": [
    "## Función para determinar si un número entero par n mayor que 2 cumple la conjetura de Goldbach (1742) ##\n",
    "def goldbach(n:int)->tuple:\n",
    "    if n%2!=0: \n",
    "        print(\"Error: Ingrese un entero par\")\n",
    "        return ## La conjetura no considera impares ##\n",
    "    if n<4:\n",
    "        print(\"Error: Ingrese un entero par mayor o igual a 4\")\n",
    "        return ## La conjetura no considera pares menores o iguales a 2 ##\n",
    "    for i in range (2,n-1): ## Recorremos hasta n-2 porque no vale la pena revisar n-1 ni n ##\n",
    "        if (primo(i)==True) and (primo(n-i)==True): ## Dado que n=i+(n-i) si i y n-i son primos, entonces cumple la conjetura ##\n",
    "            return (i,n-i) ## Retornamos una tupla con este par de primos ##\n",
    "    print(\"No existe un par de números primos que sumen\", n)\n",
    "    return ## Esto es por si algún entero par mayor que 2 no lo llegase a cumplir (cosa que veo poco probable) ##"
   ]
  },
  {
   "cell_type": "code",
   "execution_count": 41,
   "metadata": {},
   "outputs": [
    {
     "data": {
      "text/plain": [
       "(3, 3)"
      ]
     },
     "execution_count": 41,
     "metadata": {},
     "output_type": "execute_result"
    }
   ],
   "source": [
    "## Ejemplo 1 ##\n",
    "goldbach(6)"
   ]
  },
  {
   "cell_type": "code",
   "execution_count": 42,
   "metadata": {},
   "outputs": [
    {
     "data": {
      "text/plain": [
       "(5, 1307)"
      ]
     },
     "execution_count": 42,
     "metadata": {},
     "output_type": "execute_result"
    }
   ],
   "source": [
    "## Ejemplo 2 ##\n",
    "goldbach(1312)"
   ]
  },
  {
   "cell_type": "code",
   "execution_count": 43,
   "metadata": {},
   "outputs": [
    {
     "data": {
      "text/plain": [
       "(5, 1237897807)"
      ]
     },
     "execution_count": 43,
     "metadata": {},
     "output_type": "execute_result"
    }
   ],
   "source": [
    "## Ejemplo 3 ##\n",
    "goldbach(1237897812)"
   ]
  }
 ],
 "metadata": {
  "kernelspec": {
   "display_name": "Python 3",
   "language": "python",
   "name": "python3"
  },
  "language_info": {
   "codemirror_mode": {
    "name": "ipython",
    "version": 3
   },
   "file_extension": ".py",
   "mimetype": "text/x-python",
   "name": "python",
   "nbconvert_exporter": "python",
   "pygments_lexer": "ipython3",
   "version": "3.7.8"
  }
 },
 "nbformat": 4,
 "nbformat_minor": 4
}
